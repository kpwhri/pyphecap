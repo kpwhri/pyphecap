{
 "cells": [
  {
   "cell_type": "markdown",
   "metadata": {
    "collapsed": true,
    "pycharm": {
     "name": "#%% md\n"
    }
   },
   "source": [
    "# Example 1: Simulated Data\n",
    "\n",
    "Based on: https://celehs.github.io/PheCAP/articles/example1.html"
   ]
  },
  {
   "cell_type": "code",
   "execution_count": 1,
   "outputs": [],
   "source": [
    "import sys\n",
    "\n",
    "sys.path.append('../src')"
   ],
   "metadata": {
    "collapsed": false,
    "pycharm": {
     "name": "#%%\n"
    }
   }
  },
  {
   "cell_type": "code",
   "execution_count": 2,
   "outputs": [],
   "source": [
    "import numpy as np\n",
    "import scipy as sp\n",
    "import pandas as pd\n",
    "import matplotlib.pyplot as plt\n",
    "\n",
    "from pyphecap.plotting import plot_roc_curves\n",
    "from pyphecap.predict import predict_phenotype, validate_phenotyping_model\n",
    "from pyphecap.training import train_phenotyping_model\n",
    "from pyphecap.feature_extraction import run_feature_extraction\n",
    "from pyphecap.phecap_data import add_validation_column, Data\n",
    "from pyphecap.surrogate import Surrogates, Surrogate"
   ],
   "metadata": {
    "collapsed": false,
    "pycharm": {
     "name": "#%%\n"
    }
   }
  },
  {
   "cell_type": "code",
   "execution_count": 3,
   "outputs": [],
   "source": [
    "np.random.seed(123)"
   ],
   "metadata": {
    "collapsed": false,
    "pycharm": {
     "name": "#%%\n"
    }
   }
  },
  {
   "cell_type": "code",
   "execution_count": 4,
   "outputs": [],
   "source": [
    "# set variables for below\n",
    "n_obs = 8000\n"
   ],
   "metadata": {
    "collapsed": false,
    "pycharm": {
     "name": "#%%\n"
    }
   }
  },
  {
   "cell_type": "code",
   "execution_count": 5,
   "outputs": [
    {
     "data": {
      "text/plain": "   patient_id  ICD1  ICD2  ICD3  ICD4  NLP1  NLP2  NLP3  NLP4  NLP5  NLP6  \\\n0           1     2     6     1     1     2     3     4     6     3     4   \n1           2     6     0     2     0     2     0     4    36     0     0   \n2           3     3     4     2     0    28     0     4     9     2     1   \n3           4     3    12     3     0     2     2     0     0    57     2   \n4           5     1     1     2     1     0     3     0     8     2     0   \n\n   NLP7  HU  label  \n0     0   2    NaN  \n1     0   0    NaN  \n2     0   0    NaN  \n3     1   0    NaN  \n4     2  16    NaN  ",
      "text/html": "<div>\n<style scoped>\n    .dataframe tbody tr th:only-of-type {\n        vertical-align: middle;\n    }\n\n    .dataframe tbody tr th {\n        vertical-align: top;\n    }\n\n    .dataframe thead th {\n        text-align: right;\n    }\n</style>\n<table border=\"1\" class=\"dataframe\">\n  <thead>\n    <tr style=\"text-align: right;\">\n      <th></th>\n      <th>patient_id</th>\n      <th>ICD1</th>\n      <th>ICD2</th>\n      <th>ICD3</th>\n      <th>ICD4</th>\n      <th>NLP1</th>\n      <th>NLP2</th>\n      <th>NLP3</th>\n      <th>NLP4</th>\n      <th>NLP5</th>\n      <th>NLP6</th>\n      <th>NLP7</th>\n      <th>HU</th>\n      <th>label</th>\n    </tr>\n  </thead>\n  <tbody>\n    <tr>\n      <th>0</th>\n      <td>1</td>\n      <td>2</td>\n      <td>6</td>\n      <td>1</td>\n      <td>1</td>\n      <td>2</td>\n      <td>3</td>\n      <td>4</td>\n      <td>6</td>\n      <td>3</td>\n      <td>4</td>\n      <td>0</td>\n      <td>2</td>\n      <td>NaN</td>\n    </tr>\n    <tr>\n      <th>1</th>\n      <td>2</td>\n      <td>6</td>\n      <td>0</td>\n      <td>2</td>\n      <td>0</td>\n      <td>2</td>\n      <td>0</td>\n      <td>4</td>\n      <td>36</td>\n      <td>0</td>\n      <td>0</td>\n      <td>0</td>\n      <td>0</td>\n      <td>NaN</td>\n    </tr>\n    <tr>\n      <th>2</th>\n      <td>3</td>\n      <td>3</td>\n      <td>4</td>\n      <td>2</td>\n      <td>0</td>\n      <td>28</td>\n      <td>0</td>\n      <td>4</td>\n      <td>9</td>\n      <td>2</td>\n      <td>1</td>\n      <td>0</td>\n      <td>0</td>\n      <td>NaN</td>\n    </tr>\n    <tr>\n      <th>3</th>\n      <td>4</td>\n      <td>3</td>\n      <td>12</td>\n      <td>3</td>\n      <td>0</td>\n      <td>2</td>\n      <td>2</td>\n      <td>0</td>\n      <td>0</td>\n      <td>57</td>\n      <td>2</td>\n      <td>1</td>\n      <td>0</td>\n      <td>NaN</td>\n    </tr>\n    <tr>\n      <th>4</th>\n      <td>5</td>\n      <td>1</td>\n      <td>1</td>\n      <td>2</td>\n      <td>1</td>\n      <td>0</td>\n      <td>3</td>\n      <td>0</td>\n      <td>8</td>\n      <td>2</td>\n      <td>0</td>\n      <td>2</td>\n      <td>16</td>\n      <td>NaN</td>\n    </tr>\n  </tbody>\n</table>\n</div>"
     },
     "execution_count": 5,
     "metadata": {},
     "output_type": "execute_result"
    }
   ],
   "source": [
    "latent = np.random.gamma(0.3, size=n_obs)\n",
    "latent2 = np.random.gamma(0.3, size=n_obs)\n",
    "ehr_data = pd.DataFrame({\n",
    "    'patient_id': list(range(1, 8001)),\n",
    "    'ICD1': np.random.poisson(7 * (np.random.gamma(0.2, size=n_obs) + latent) / 0.5),\n",
    "    'ICD2': np.random.poisson(6 * (np.random.gamma(0.8, size=n_obs) + latent) / 1.1),\n",
    "    'ICD3': np.random.poisson(1 * (np.random.gamma(0.5 + latent2, size=n_obs)) / 0.5),\n",
    "    'ICD4': np.random.poisson(2 * (np.random.gamma(0.5, size=n_obs)) / 0.5),\n",
    "    'NLP1': np.random.poisson(8 * (np.random.gamma(0.2, size=n_obs) + latent) / 0.6),\n",
    "    'NLP2': np.random.poisson(2 * (np.random.gamma(1.1, size=n_obs) + latent) / 1.5),\n",
    "    'NLP3': np.random.poisson(5 * (np.random.gamma(0.1, size=n_obs) + latent) / 0.5),\n",
    "    'NLP4': np.random.poisson(11 * (np.random.gamma(1.9 + latent, size=n_obs)) / 1.9),\n",
    "    'NLP5': np.random.poisson(3 * (np.random.gamma(0.5 + latent2, size=n_obs)) / 0.5),\n",
    "    'NLP6': np.random.poisson(2 * (np.random.gamma(0.5, size=n_obs)) / 0.5),\n",
    "    'NLP7': np.random.poisson(1 * (np.random.gamma(0.5, size=n_obs)) / 0.5),\n",
    "    'HU': np.random.poisson(30 * (np.random.gamma(0.1, size=n_obs)) / 0.1),\n",
    "    'label': np.nan,\n",
    "})\n",
    "sample_idx = ehr_data.sample(n=400).index\n",
    "ehr_data.loc[sample_idx, 'label'] = ehr_data.iloc[sample_idx].apply(\n",
    "    lambda r: np.random.binomial(1, sp.stats.logistic.cdf(\n",
    "        -5 + 1.5 * np.log1p(r['ICD1']) + np.log1p(r['NLP1'])\n",
    "        + 0.8 * np.log1p(r['NLP3']) - 0.5 * np.log1p(r['HU'])\n",
    "    )),\n",
    "    axis=1\n",
    ")\n",
    "ehr_data.head()"
   ],
   "metadata": {
    "collapsed": false,
    "pycharm": {
     "name": "#%%\n"
    }
   }
  },
  {
   "cell_type": "code",
   "execution_count": 6,
   "outputs": [
    {
     "data": {
      "text/plain": "0.0    252\n1.0    148\nName: label, dtype: int64"
     },
     "execution_count": 6,
     "metadata": {},
     "output_type": "execute_result"
    }
   ],
   "source": [
    "ehr_data['label'].value_counts()"
   ],
   "metadata": {
    "collapsed": false,
    "pycharm": {
     "name": "#%%\n"
    }
   }
  },
  {
   "cell_type": "markdown",
   "source": [
    "Define the features and labels used for phenotyping"
   ],
   "metadata": {
    "collapsed": false,
    "pycharm": {
     "name": "#%% md\n"
    }
   }
  },
  {
   "cell_type": "code",
   "execution_count": 7,
   "outputs": [],
   "source": [
    "add_validation_column(ehr_data)\n",
    "data = Data(\n",
    "    ehr_data,\n",
    "    'HU',\n",
    "    'label',\n",
    "    'validation',\n",
    ")"
   ],
   "metadata": {
    "collapsed": false,
    "pycharm": {
     "name": "#%%\n"
    }
   }
  },
  {
   "cell_type": "code",
   "execution_count": 8,
   "outputs": [
    {
     "data": {
      "text/plain": "0.0    152\n1.0     89\nName: label, dtype: int64"
     },
     "execution_count": 8,
     "metadata": {},
     "output_type": "execute_result"
    }
   ],
   "source": [
    "data.training_set['label'].value_counts()"
   ],
   "metadata": {
    "collapsed": false,
    "pycharm": {
     "name": "#%%\n"
    }
   }
  },
  {
   "cell_type": "code",
   "execution_count": 9,
   "outputs": [
    {
     "data": {
      "text/plain": "0.0    100\n1.0     59\nName: label, dtype: int64"
     },
     "execution_count": 9,
     "metadata": {},
     "output_type": "execute_result"
    }
   ],
   "source": [
    "data.validation_set['label'].value_counts()"
   ],
   "metadata": {
    "collapsed": false,
    "pycharm": {
     "name": "#%%\n"
    }
   }
  },
  {
   "cell_type": "markdown",
   "source": [
    "Specify the surrogates to be used for the surrogate-assisted feature extraction (SAFE).\n",
    "\n",
    "Typically:\n",
    "* primary ICD code\n",
    "* primary NLP CUI\n",
    "* both together"
   ],
   "metadata": {
    "collapsed": false,
    "pycharm": {
     "name": "#%% md\n"
    }
   }
  },
  {
   "cell_type": "code",
   "execution_count": 10,
   "outputs": [],
   "source": [
    "surrogates = Surrogates(\n",
    "    Surrogate('ICD1'),\n",
    "    Surrogate('NLP1'),\n",
    "    # Surrogate('ICD1', 'NLP1'),  # together not used in R example\n",
    ")"
   ],
   "metadata": {
    "collapsed": false,
    "pycharm": {
     "name": "#%%\n"
    }
   }
  },
  {
   "cell_type": "code",
   "execution_count": 11,
   "outputs": [
    {
     "name": "stdout",
     "output_type": "stream",
     "text": [
      "1.31 s ± 0 ns per loop (mean ± std. dev. of 1 run, 1 loop each)\n"
     ]
    }
   ],
   "source": [
    "%%timeit -n 1 -r 1\n",
    "run_feature_extraction(data, surrogates)"
   ],
   "metadata": {
    "collapsed": false,
    "pycharm": {
     "name": "#%%\n"
    }
   }
  },
  {
   "cell_type": "code",
   "execution_count": 12,
   "outputs": [
    {
     "data": {
      "text/plain": "['NLP1', 'ICD1', 'ICD2', 'NLP2', 'NLP3', 'NLP4', 'NLP5', 'NLP6']"
     },
     "execution_count": 12,
     "metadata": {},
     "output_type": "execute_result"
    }
   ],
   "source": [
    "selected_features = run_feature_extraction(data, surrogates)\n",
    "selected_features\n"
   ],
   "metadata": {
    "collapsed": false,
    "pycharm": {
     "name": "#%%\n"
    }
   }
  },
  {
   "cell_type": "code",
   "execution_count": 13,
   "outputs": [
    {
     "data": {
      "text/plain": "([('intercept', -0.08528247918706094),\n  ('ICD1', 0.2033208558593105),\n  ('NLP1', 0.14852963493957064),\n  ('HU', -0.031354000488833744),\n  ('NLP2', -0.018049274142353303),\n  ('ICD2', -0.018595646323419694),\n  ('NLP3', 0.0940947313285532),\n  ('NLP4', -0.009746480812788848),\n  ('NLP5', -0.01769356889551742),\n  ('NLP6', 0.025936772918360714)],\n 0.969692489651094,\n 0.9605475040257648)"
     },
     "execution_count": 13,
     "metadata": {},
     "output_type": "execute_result"
    }
   ],
   "source": [
    "coefficients, train_roc_auc, split_roc_auc = train_phenotyping_model(data, surrogates, selected_features)\n",
    "coefficients, train_roc_auc[0], split_roc_auc[0]"
   ],
   "metadata": {
    "collapsed": false,
    "pycharm": {
     "name": "#%%\n"
    }
   }
  },
  {
   "cell_type": "code",
   "execution_count": 14,
   "outputs": [
    {
     "data": {
      "text/plain": "0.9554237288135593"
     },
     "execution_count": 14,
     "metadata": {},
     "output_type": "execute_result"
    }
   ],
   "source": [
    "valid_roc_auc = validate_phenotyping_model(data, surrogates, coefficients, selected_features)\n",
    "valid_roc_auc[0]"
   ],
   "metadata": {
    "collapsed": false,
    "pycharm": {
     "name": "#%%\n"
    }
   }
  },
  {
   "cell_type": "code",
   "execution_count": 15,
   "outputs": [
    {
     "data": {
      "text/plain": "<Figure size 432x288 with 1 Axes>",
      "image/png": "[encoded data removed]"
     },
     "metadata": {
      "needs_background": "light"
     },
     "output_type": "display_data"
    }
   ],
   "source": [
    "plot_roc_curves(train_roc_auc, split_roc_auc, valid_roc_auc)\n",
    "plt.show()"
   ],
   "metadata": {
    "collapsed": false,
    "pycharm": {
     "name": "#%%\n"
    }
   }
  }
 ],
 "metadata": {
  "kernelspec": {
   "display_name": "Python 3",
   "language": "python",
   "name": "python3"
  },
  "language_info": {
   "codemirror_mode": {
    "name": "ipython",
    "version": 2
   },
   "file_extension": ".py",
   "mimetype": "text/x-python",
   "name": "python",
   "nbconvert_exporter": "python",
   "pygments_lexer": "ipython2",
   "version": "2.7.6"
  }
 },
 "nbformat": 4,
 "nbformat_minor": 0
}