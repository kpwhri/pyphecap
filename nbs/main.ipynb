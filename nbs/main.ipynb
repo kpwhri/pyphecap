{
 "cells": [
  {
   "cell_type": "markdown",
   "source": [
    "Python Port of PheCAP Algorithm\n",
    "\n",
    "Replicate the process in main.R."
   ],
   "metadata": {
    "collapsed": false
   }
  },
  {
   "cell_type": "code",
   "execution_count": 1,
   "outputs": [],
   "source": [
    "import sys\n",
    "\n",
    "sys.path.append('../src')"
   ],
   "metadata": {
    "collapsed": false,
    "pycharm": {
     "name": "#%%\n"
    }
   }
  },
  {
   "cell_type": "code",
   "execution_count": 2,
   "outputs": [],
   "source": [
    "import pandas as pd\n",
    "\n",
    "from pyphecap.training import train_phenotyping_model\n",
    "from pyphecap.feature_extraction import run_feature_extraction\n",
    "from pyphecap.phecap_data import add_validation_column, Data\n",
    "from pyphecap.surrogate import Surrogates, Surrogate"
   ],
   "metadata": {
    "collapsed": false,
    "pycharm": {
     "name": "#%%\n"
    }
   }
  },
  {
   "cell_type": "code",
   "execution_count": 3,
   "outputs": [
    {
     "data": {
      "text/plain": "(10000, 590)"
     },
     "execution_count": 3,
     "metadata": {},
     "output_type": "execute_result"
    }
   ],
   "source": [
    "ehr_data = pd.read_csv('../data/ehr_data.csv')  # read sample data output from R\n",
    "ehr_data.shape"
   ],
   "metadata": {
    "collapsed": false,
    "pycharm": {
     "name": "#%%\n"
    }
   }
  },
  {
   "cell_type": "code",
   "execution_count": 4,
   "outputs": [
    {
     "data": {
      "text/plain": "1.0    119\n0.0     62\nName: label, dtype: int64"
     },
     "execution_count": 4,
     "metadata": {},
     "output_type": "execute_result"
    }
   ],
   "source": [
    "# gold standard\n",
    "ehr_data[~pd.isnull(ehr_data.label)]['label'].value_counts()"
   ],
   "metadata": {
    "collapsed": false,
    "pycharm": {
     "name": "#%%\n"
    }
   }
  },
  {
   "cell_type": "code",
   "execution_count": 5,
   "outputs": [],
   "source": [
    "add_validation_column(ehr_data)\n",
    "data = Data(\n",
    "    ehr_data,\n",
    "    'healthcare_utilization',\n",
    "    'label',\n",
    "    'validation',\n",
    ")"
   ],
   "metadata": {
    "collapsed": false,
    "pycharm": {
     "name": "#%%\n"
    }
   }
  },
  {
   "cell_type": "code",
   "execution_count": 6,
   "outputs": [],
   "source": [
    "surrogates = Surrogates(\n",
    "    Surrogate(\"main_ICD\"),\n",
    "    Surrogate(\"main_NLP\"),\n",
    "    Surrogate(\"main_ICD\", \"main_NLP\"),\n",
    ")"
   ],
   "metadata": {
    "collapsed": false,
    "pycharm": {
     "name": "#%%\n"
    }
   }
  },
  {
   "cell_type": "code",
   "execution_count": 7,
   "outputs": [
    {
     "data": {
      "text/plain": "['main_NLP',\n 'main_ICD',\n 'NLP6',\n 'NLP56',\n 'NLP160',\n 'NLP161',\n 'NLP306',\n 'NLP309',\n 'NLP403',\n 'NLP536',\n 'NLP564']"
     },
     "execution_count": 7,
     "metadata": {},
     "output_type": "execute_result"
    }
   ],
   "source": [
    "selected_features = run_feature_extraction(data, surrogates)\n",
    "selected_features"
   ],
   "metadata": {
    "collapsed": false,
    "pycharm": {
     "name": "#%%\n"
    }
   }
  },
  {
   "cell_type": "code",
   "execution_count": 8,
   "outputs": [
    {
     "data": {
      "text/plain": "[('intercept', 0.782504569449425),\n ('main_ICD', 0.8980490622340085),\n ('main_NLP', 0.9679868483065888),\n ('main_ICD__main_NLP', 0.6305458364486853),\n ('healthcare_utilization', 0.7854994741783271),\n ('NLP536', 0.7771180276158706),\n ('NLP306', 0.7679186586220257),\n ('NLP403', 0.8710968564652215),\n ('NLP6', 0.9301900813708939),\n ('NLP160', 0.8708363591486759),\n ('NLP309', 0.6705519357242544),\n ('NLP564', 0.7979710032249674),\n ('NLP56', 0.7354525619722935)]"
     },
     "execution_count": 8,
     "metadata": {},
     "output_type": "execute_result"
    }
   ],
   "source": [
    "coefficients, train_roc, split_roc = train_phenotyping_model(data, surrogates, selected_features)\n",
    "coefficients"
   ],
   "metadata": {
    "collapsed": false,
    "pycharm": {
     "name": "#%%\n"
    }
   }
  },
  {
   "cell_type": "code",
   "execution_count": null,
   "outputs": [],
   "source": [
    "# TODO\n",
    "phenotype = predict_phenotype(data, coefficients)\n",
    "phenotype"
   ],
   "metadata": {
    "collapsed": false,
    "pycharm": {
     "name": "#%%\n"
    }
   }
  },
  {
   "cell_type": "code",
   "execution_count": null,
   "outputs": [],
   "source": [
    "# TODO\n",
    "validation = validate_phenotyping_model(data, coefficients)\n",
    "validation"
   ],
   "metadata": {
    "collapsed": false,
    "pycharm": {
     "name": "#%%\n"
    }
   }
  },
  {
   "cell_type": "code",
   "execution_count": null,
   "outputs": [],
   "source": [
    "# TODO\n",
    "plot_roc_curves(validation)"
   ],
   "metadata": {
    "collapsed": false,
    "pycharm": {
     "name": "#%%\n"
    }
   }
  }
 ],
 "metadata": {
  "kernelspec": {
   "display_name": "Python 3",
   "language": "python",
   "name": "python3"
  },
  "language_info": {
   "codemirror_mode": {
    "name": "ipython",
    "version": 2
   },
   "file_extension": ".py",
   "mimetype": "text/x-python",
   "name": "python",
   "nbconvert_exporter": "python",
   "pygments_lexer": "ipython2",
   "version": "2.7.6"
  }
 },
 "nbformat": 4,
 "nbformat_minor": 0
}