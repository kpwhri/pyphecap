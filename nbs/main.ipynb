{
 "cells": [
  {
   "cell_type": "markdown",
   "source": [
    "Python Port of PheCAP Algorithm\n",
    "\n",
    "Replicate the process in main.R."
   ],
   "metadata": {
    "collapsed": false
   }
  },
  {
   "cell_type": "code",
   "execution_count": 1,
   "outputs": [],
   "source": [
    "import sys\n",
    "\n",
    "sys.path.append('../src')"
   ],
   "metadata": {
    "collapsed": false,
    "pycharm": {
     "name": "#%%\n"
    }
   }
  },
  {
   "cell_type": "code",
   "execution_count": 2,
   "outputs": [],
   "source": [
    "import pandas as pd\n",
    "\n",
    "\n",
    "from pyphecap.predict import predict_phenotype, validate_phenotyping_model\n",
    "from pyphecap.training import train_phenotyping_model\n",
    "from pyphecap.feature_extraction import run_feature_extraction\n",
    "from pyphecap.phecap_data import add_validation_column, Data\n",
    "from pyphecap.surrogate import Surrogates, Surrogate"
   ],
   "metadata": {
    "collapsed": false,
    "pycharm": {
     "name": "#%%\n"
    }
   }
  },
  {
   "cell_type": "code",
   "execution_count": 3,
   "outputs": [
    {
     "data": {
      "text/plain": "(10000, 590)"
     },
     "execution_count": 3,
     "metadata": {},
     "output_type": "execute_result"
    }
   ],
   "source": [
    "ehr_data = pd.read_csv('../data/ehr_data.csv')  # read sample data output from R\n",
    "ehr_data.shape"
   ],
   "metadata": {
    "collapsed": false,
    "pycharm": {
     "name": "#%%\n"
    }
   }
  },
  {
   "cell_type": "code",
   "execution_count": 4,
   "outputs": [
    {
     "data": {
      "text/plain": "1.0    119\n0.0     62\nName: label, dtype: int64"
     },
     "execution_count": 4,
     "metadata": {},
     "output_type": "execute_result"
    }
   ],
   "source": [
    "# gold standard\n",
    "ehr_data[~pd.isnull(ehr_data.label)]['label'].value_counts()"
   ],
   "metadata": {
    "collapsed": false,
    "pycharm": {
     "name": "#%%\n"
    }
   }
  },
  {
   "cell_type": "code",
   "execution_count": 5,
   "outputs": [],
   "source": [
    "add_validation_column(ehr_data)\n",
    "data = Data(\n",
    "    ehr_data,\n",
    "    'healthcare_utilization',\n",
    "    'label',\n",
    "    'validation',\n",
    ")"
   ],
   "metadata": {
    "collapsed": false,
    "pycharm": {
     "name": "#%%\n"
    }
   }
  },
  {
   "cell_type": "code",
   "execution_count": 6,
   "outputs": [],
   "source": [
    "surrogates = Surrogates(\n",
    "    Surrogate(\"main_ICD\"),\n",
    "    Surrogate(\"main_NLP\"),\n",
    "    Surrogate(\"main_ICD\", \"main_NLP\"),\n",
    ")"
   ],
   "metadata": {
    "collapsed": false,
    "pycharm": {
     "name": "#%%\n"
    }
   }
  },
  {
   "cell_type": "code",
   "execution_count": 7,
   "outputs": [
    {
     "data": {
      "text/plain": "['main_NLP',\n 'main_ICD',\n 'NLP6',\n 'NLP56',\n 'NLP160',\n 'NLP161',\n 'NLP306',\n 'NLP309',\n 'NLP403',\n 'NLP536',\n 'NLP564']"
     },
     "execution_count": 7,
     "metadata": {},
     "output_type": "execute_result"
    }
   ],
   "source": [
    "selected_features = run_feature_extraction(data, surrogates)\n",
    "selected_features"
   ],
   "metadata": {
    "collapsed": false,
    "pycharm": {
     "name": "#%%\n"
    }
   }
  },
  {
   "cell_type": "code",
   "execution_count": 8,
   "outputs": [
    {
     "data": {
      "text/plain": "[('intercept', 0.6268718575234931),\n ('main_ICD', 0.6337449679412155),\n ('main_NLP', 1.003751942804733),\n ('main_ICD__main_NLP', 0.4834152159007125),\n ('healthcare_utilization', 0.5874735267968327),\n ('NLP306', 0.6868921584917298),\n ('NLP160', 0.6024910109329423),\n ('NLP564', 0.6432881298421733),\n ('NLP161', 0.7735609098166827),\n ('NLP6', 0.6587425381742472),\n ('NLP309', 0.5728663342305981),\n ('NLP403', 0.7584180805634746),\n ('NLP536', 0.6954064677114601)]"
     },
     "execution_count": 8,
     "metadata": {},
     "output_type": "execute_result"
    }
   ],
   "source": [
    "coefficients, train_roc, split_roc = train_phenotyping_model(data, surrogates, selected_features)\n",
    "coefficients"
   ],
   "metadata": {
    "collapsed": false,
    "pycharm": {
     "name": "#%%\n"
    }
   }
  },
  {
   "cell_type": "code",
   "execution_count": 9,
   "outputs": [
    {
     "data": {
      "text/plain": "array([ 2.26650268, 16.63737349,  6.0610467 , ...,  1.51065185,\n        1.44694986,  3.6321152 ])"
     },
     "execution_count": 9,
     "metadata": {},
     "output_type": "execute_result"
    }
   ],
   "source": [
    "phenotype = predict_phenotype(data, surrogates, coefficients, selected_features)\n",
    "phenotype"
   ],
   "metadata": {
    "collapsed": false,
    "pycharm": {
     "name": "#%%\n"
    }
   }
  },
  {
   "cell_type": "code",
   "execution_count": 10,
   "outputs": [
    {
     "data": {
      "text/plain": "0.8031674208144797"
     },
     "execution_count": 10,
     "metadata": {},
     "output_type": "execute_result"
    }
   ],
   "source": [
    "roc, auc = validate_phenotyping_model(data, surrogates, coefficients, selected_features)\n",
    "roc"
   ],
   "metadata": {
    "collapsed": false,
    "pycharm": {
     "name": "#%%\n"
    }
   }
  },
  {
   "cell_type": "code",
   "execution_count": null,
   "outputs": [],
   "source": [
    "# TODO\n",
    "plot_roc_curves(roc, auc)"
   ],
   "metadata": {
    "collapsed": false,
    "pycharm": {
     "name": "#%%\n"
    }
   }
  }
 ],
 "metadata": {
  "kernelspec": {
   "display_name": "Python 3",
   "language": "python",
   "name": "python3"
  },
  "language_info": {
   "codemirror_mode": {
    "name": "ipython",
    "version": 2
   },
   "file_extension": ".py",
   "mimetype": "text/x-python",
   "name": "python",
   "nbconvert_exporter": "python",
   "pygments_lexer": "ipython2",
   "version": "2.7.6"
  }
 },
 "nbformat": 4,
 "nbformat_minor": 0
}