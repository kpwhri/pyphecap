{
 "cells": [
  {
   "cell_type": "markdown",
   "source": [
    "Python Port of PheCAP Algorithm\n",
    "\n",
    "Replicate the process in main.R."
   ],
   "metadata": {
    "collapsed": false
   }
  },
  {
   "cell_type": "code",
   "execution_count": 1,
   "outputs": [],
   "source": [
    "import sys\n",
    "\n",
    "sys.path.append('../src')"
   ],
   "metadata": {
    "collapsed": false,
    "pycharm": {
     "name": "#%%\n"
    }
   }
  },
  {
   "cell_type": "code",
   "execution_count": 2,
   "outputs": [],
   "source": [
    "import pandas as pd\n",
    "import matplotlib.pyplot as plt\n",
    "\n",
    "from pyphecap.plotting import plot_roc_curves\n",
    "from pyphecap.predict import predict_phenotype, validate_phenotyping_model\n",
    "from pyphecap.training import train_phenotyping_model\n",
    "from pyphecap.feature_extraction import run_feature_extraction\n",
    "from pyphecap.phecap_data import add_validation_column, Data\n",
    "from pyphecap.surrogate import Surrogates, Surrogate"
   ],
   "metadata": {
    "collapsed": false,
    "pycharm": {
     "name": "#%%\n"
    }
   }
  },
  {
   "cell_type": "code",
   "execution_count": 3,
   "outputs": [
    {
     "data": {
      "text/plain": "(10000, 590)"
     },
     "execution_count": 3,
     "metadata": {},
     "output_type": "execute_result"
    }
   ],
   "source": [
    "ehr_data = pd.read_csv('../data/ehr_data.csv')  # read sample data output from R\n",
    "ehr_data.shape"
   ],
   "metadata": {
    "collapsed": false,
    "pycharm": {
     "name": "#%%\n"
    }
   }
  },
  {
   "cell_type": "code",
   "execution_count": 4,
   "outputs": [
    {
     "data": {
      "text/plain": "1.0    119\n0.0     62\nName: label, dtype: int64"
     },
     "execution_count": 4,
     "metadata": {},
     "output_type": "execute_result"
    }
   ],
   "source": [
    "# gold standard\n",
    "ehr_data[~pd.isnull(ehr_data.label)]['label'].value_counts()"
   ],
   "metadata": {
    "collapsed": false,
    "pycharm": {
     "name": "#%%\n"
    }
   }
  },
  {
   "cell_type": "code",
   "execution_count": 5,
   "outputs": [],
   "source": [
    "add_validation_column(ehr_data)\n",
    "data = Data(\n",
    "    ehr_data,\n",
    "    'healthcare_utilization',\n",
    "    'label',\n",
    "    'validation',\n",
    ")"
   ],
   "metadata": {
    "collapsed": false,
    "pycharm": {
     "name": "#%%\n"
    }
   }
  },
  {
   "cell_type": "code",
   "execution_count": 6,
   "outputs": [],
   "source": [
    "surrogates = Surrogates(\n",
    "    Surrogate(\"main_ICD\"),\n",
    "    Surrogate(\"main_NLP\"),\n",
    "    Surrogate(\"main_ICD\", \"main_NLP\"),\n",
    ")"
   ],
   "metadata": {
    "collapsed": false,
    "pycharm": {
     "name": "#%%\n"
    }
   }
  },
  {
   "cell_type": "code",
   "execution_count": 7,
   "outputs": [
    {
     "data": {
      "text/plain": "['main_NLP',\n 'main_ICD',\n 'NLP6',\n 'NLP56',\n 'NLP160',\n 'NLP161',\n 'NLP306',\n 'NLP309',\n 'NLP403',\n 'NLP536',\n 'NLP564']"
     },
     "execution_count": 7,
     "metadata": {},
     "output_type": "execute_result"
    }
   ],
   "source": [
    "selected_features = run_feature_extraction(data, surrogates)\n",
    "selected_features"
   ],
   "metadata": {
    "collapsed": false,
    "pycharm": {
     "name": "#%%\n"
    }
   }
  },
  {
   "cell_type": "code",
   "execution_count": 8,
   "outputs": [
    {
     "data": {
      "text/plain": "([('intercept', 0.35801332282997206),\n  ('main_ICD', 0.5503137673771231),\n  ('main_NLP', 0.8721062860979317),\n  ('main_ICD__main_NLP', 0.38488509496272116),\n  ('healthcare_utilization', 0.5255633910558086),\n  ('NLP161', 0.4344704769686019),\n  ('NLP306', 0.6526342376739821),\n  ('NLP536', 0.4926048382980176),\n  ('NLP564', 0.5053233179763226),\n  ('NLP56', 0.5727897050732865),\n  ('NLP6', 0.5231197363763531),\n  ('NLP160', 0.44994816379174263),\n  ('NLP309', 0.4817530445800838)],\n 0.9401154401154401,\n 0.8820158102766799)"
     },
     "execution_count": 8,
     "metadata": {},
     "output_type": "execute_result"
    }
   ],
   "source": [
    "coefficients, train_roc_auc, split_roc_auc = train_phenotyping_model(data, surrogates, selected_features)\n",
    "coefficients, train_roc_auc[0], split_roc_auc[0]"
   ],
   "metadata": {
    "collapsed": false,
    "pycharm": {
     "name": "#%%\n"
    }
   }
  },
  {
   "cell_type": "code",
   "execution_count": 9,
   "outputs": [
    {
     "data": {
      "text/plain": "array([ 1.41261286, 13.96978305,  4.82370411, ...,  1.09773701,\n        1.00836944,  2.75220788])"
     },
     "execution_count": 9,
     "metadata": {},
     "output_type": "execute_result"
    }
   ],
   "source": [
    "phenotype = predict_phenotype(data, surrogates, coefficients, selected_features)\n",
    "phenotype"
   ],
   "metadata": {
    "collapsed": false,
    "pycharm": {
     "name": "#%%\n"
    }
   }
  },
  {
   "cell_type": "code",
   "execution_count": 10,
   "outputs": [
    {
     "data": {
      "text/plain": "0.7353479853479854"
     },
     "execution_count": 10,
     "metadata": {},
     "output_type": "execute_result"
    }
   ],
   "source": [
    "valid_roc_auc = validate_phenotyping_model(data, surrogates, coefficients, selected_features)\n",
    "valid_roc_auc[0]"
   ],
   "metadata": {
    "collapsed": false,
    "pycharm": {
     "name": "#%%\n"
    }
   }
  },
  {
   "cell_type": "code",
   "execution_count": 11,
   "outputs": [
    {
     "data": {
      "text/plain": "<Figure size 432x288 with 1 Axes>",
      "image/png": "[encoded data removed]"
     },
     "metadata": {
      "needs_background": "light"
     },
     "output_type": "display_data"
    }
   ],
   "source": [
    "plot_roc_curves(train_roc_auc, split_roc_auc, valid_roc_auc)\n",
    "plt.show()"
   ],
   "metadata": {
    "collapsed": false,
    "pycharm": {
     "name": "#%%\n"
    }
   }
  }
 ],
 "metadata": {
  "kernelspec": {
   "display_name": "Python 3",
   "language": "python",
   "name": "python3"
  },
  "language_info": {
   "codemirror_mode": {
    "name": "ipython",
    "version": 2
   },
   "file_extension": ".py",
   "mimetype": "text/x-python",
   "name": "python",
   "nbconvert_exporter": "python",
   "pygments_lexer": "ipython2",
   "version": "2.7.6"
  }
 },
 "nbformat": 4,
 "nbformat_minor": 0
}